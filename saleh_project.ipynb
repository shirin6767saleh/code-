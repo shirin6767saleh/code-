{
  "nbformat": 4,
  "nbformat_minor": 0,
  "metadata": {
    "colab": {
      "provenance": [],
      "include_colab_link": true
    },
    "kernelspec": {
      "name": "python3",
      "display_name": "Python 3"
    },
    "language_info": {
      "name": "python"
    }
  },
  "cells": [
    {
      "cell_type": "markdown",
      "metadata": {
        "id": "view-in-github",
        "colab_type": "text"
      },
      "source": [
        "<a href=\"https://colab.research.google.com/github/shirin6767saleh/code-/blob/main/saleh_project.ipynb\" target=\"_parent\"><img src=\"https://colab.research.google.com/assets/colab-badge.svg\" alt=\"Open In Colab\"/></a>"
      ]
    },
    {
      "cell_type": "code",
      "execution_count": null,
      "metadata": {
        "colab": {
          "base_uri": "https://localhost:8080/"
        },
        "id": "S0nyChve7Ofk",
        "outputId": "c1aed71b-36c8-4da7-abe9-d4188795e48d"
      },
      "outputs": [
        {
          "output_type": "execute_result",
          "data": {
            "text/plain": [
              "array([[ 1.+0.j,  0.+0.j, -0.+0.j,  0.+0.j,  0.+0.j,  0.+0.j,  0.+0.j,\n",
              "         0.+0.j,  0.+0.j,  0.+0.j,  0.+0.j,  0.+0.j,  0.+0.j],\n",
              "       [ 0.+0.j,  1.+0.j,  0.+0.j, -0.+0.j, -0.+0.j,  0.+0.j,  0.+0.j,\n",
              "         0.+0.j,  0.+0.j,  0.+0.j, -0.+0.j,  0.+0.j,  0.+0.j],\n",
              "       [ 0.+0.j, -0.+0.j,  1.+0.j,  0.+0.j,  0.+0.j,  0.+0.j,  0.+0.j,\n",
              "         0.+0.j,  0.+0.j,  0.+0.j,  0.+0.j, -0.+0.j, -0.+0.j],\n",
              "       [ 0.+0.j, -0.+0.j,  0.+0.j,  1.+0.j,  0.+0.j,  0.+0.j,  0.+0.j,\n",
              "         0.+0.j,  0.+0.j,  0.+0.j,  0.+0.j,  0.+0.j, -0.+0.j],\n",
              "       [ 0.+0.j,  0.+0.j, -0.+0.j,  0.+0.j, -1.+0.j, -0.+0.j,  0.+0.j,\n",
              "         0.+0.j,  0.+0.j, -0.+0.j,  0.+0.j,  0.+0.j,  0.+0.j],\n",
              "       [ 0.+0.j,  0.+0.j, -0.+0.j,  0.+0.j,  0.+0.j, -1.+0.j,  0.+0.j,\n",
              "         0.+0.j,  0.+0.j, -0.+0.j,  0.+0.j,  0.+0.j,  0.+0.j],\n",
              "       [ 0.+0.j,  0.+0.j, -0.+0.j,  0.+0.j,  0.+0.j, -0.+0.j, -1.+0.j,\n",
              "        -0.+0.j,  0.+0.j, -0.+0.j, -0.+0.j,  0.+0.j,  0.+0.j],\n",
              "       [ 0.+0.j,  0.+0.j,  0.+0.j,  0.+0.j,  0.+0.j,  0.+0.j, -0.+0.j,\n",
              "         0.+1.j, -0.+0.j,  0.+0.j,  0.+0.j,  0.+0.j, -0.+0.j],\n",
              "       [ 0.+0.j,  0.+0.j,  0.+0.j,  0.+0.j,  0.+0.j,  0.+0.j, -0.+0.j,\n",
              "        -0.+0.j,  0.+1.j,  0.+0.j,  0.+0.j,  0.+0.j, -0.+0.j],\n",
              "       [ 0.+0.j,  0.+0.j,  0.+0.j,  0.+0.j,  0.+0.j,  0.+0.j, -0.+0.j,\n",
              "        -0.+0.j, -0.+0.j,  0.+1.j,  0.+0.j,  0.+0.j, -0.+0.j],\n",
              "       [ 0.+0.j, -0.+0.j,  0.+0.j,  0.+0.j,  0.+0.j,  0.+0.j,  0.+0.j,\n",
              "         0.+0.j, -0.+0.j,  0.+0.j,  0.-1.j,  0.+0.j,  0.+0.j],\n",
              "       [-0.+0.j, -0.+0.j, -0.+0.j,  0.+0.j,  0.+0.j,  0.+0.j,  0.+0.j,\n",
              "         0.+0.j,  0.+0.j, -0.+0.j,  0.+0.j,  0.-1.j,  0.+0.j],\n",
              "       [-0.+0.j,  0.+0.j,  0.+0.j,  0.+0.j,  0.+0.j,  0.+0.j, -0.+0.j,\n",
              "        -0.+0.j,  0.+0.j, -0.+0.j,  0.+0.j,  0.+0.j,  0.-1.j]])"
            ]
          },
          "metadata": {},
          "execution_count": 26
        }
      ],
      "source": [
        "import numpy as np\n",
        "from scipy.linalg import block_diag\n",
        "import matplotlib.pyplot as plt\n",
        "\n",
        "\n",
        "N=13\n",
        "\n",
        "\n",
        "w = np.exp((2j * np.pi) / N)\n",
        "\n",
        "F = (1 / np.sqrt(N)) * np.exp((-2j * np.pi / N) * np.outer(np.arange(N), np.arange(N)))\n",
        "\n",
        "\n",
        "# Construct matrices\n",
        "J = np.eye(N - 1)[::-1]\n",
        "JJ = block_diag(np.ones(1), J)\n",
        "I = np.eye(N)\n",
        "\n",
        "# Compute projection matrices\n",
        "P_plus1 = (1/4) * (I + JJ) + (1/4) * (I + JJ) @ F\n",
        "P_minus1 = (1/4) * (I + JJ) - (1/4) * (I + JJ) @ F\n",
        "P_plusi = (1/4) * (I - JJ) - 1j * (1/4) * (I - JJ) @ F\n",
        "P_minusi = (1/4) * (I - JJ) + 1j * (1/4) * (I - JJ) @ F\n",
        "\n",
        "# Extract eigenvectors\n",
        "m = (N - 1) // 4\n",
        "V_plus1 = P_plus1[:, :m+1]\n",
        "V_minus1 = P_minus1[:, :m]\n",
        "V_plusi = P_plusi[:, 1:m+1]\n",
        "V_minusi = P_minusi[:, 1:m+1]\n",
        "\n",
        "\n",
        "eigvecs_fourier = np.hstack([V_plus1, V_minus1, V_plusi, V_minusi])\n",
        "\n",
        "result = np.linalg.inv(eigvecs_fourier) @ F  @ eigvecs_fourier\n",
        "real = np.round( np.real(result) ,2 )\n",
        "image =np.round( np.imag(result) ,2 )\n",
        "Fourier_check = real + 1j* image"
      ]
    },
    {
      "cell_type": "code",
      "source": [
        "import numpy as np\n",
        "import matplotlib.pyplot as plt\n",
        "\n",
        "m=(N-1) // 2\n",
        "\n",
        "G = (1 / np.sqrt(N)) * np.exp((-2j * np.pi / N) * np.outer(np.arange(N)+0.5, np.arange(N)+0.5))\n",
        "G4= np.linalg.matrix_power(G,4)\n",
        "real = np.round( np.real(G4) ,2 )\n",
        "image =np.round( np.imag(G4) ,2 )\n",
        "check_G4 = real +1j*image\n",
        "check_G4\n",
        "\n",
        "\n",
        "\n",
        "k = np.arange(m)\n",
        "l = np.arange(m)\n",
        "angles = ((2 * k[:, None] + 1) * (2 * l + 1) * np.pi) / (2 * N)\n",
        "C = (2 / np.sqrt(N)) * np.cos(angles)\n",
        "\n",
        "check_C2 = np.round( (C@C) ,2 )\n",
        "check_C2\n",
        "\n",
        "\n",
        "k = np.arange(m + 1)\n",
        "l = np.arange(m + 1)\n",
        "angles = ((2 * k[:, None] + 1) * (2 * l + 1) * np.pi) / (2 * N)\n",
        "S = (2 / np.sqrt(N)) * np.sin(angles)\n",
        "\n",
        "check_S2 = np.round( (S@S) ,2 )\n",
        "check_S2\n"
      ],
      "metadata": {
        "id": "H9zDQwQz7_5z",
        "colab": {
          "base_uri": "https://localhost:8080/"
        },
        "outputId": "5997bbd4-f1c5-4138-a8cb-a3e50669042b"
      },
      "execution_count": null,
      "outputs": [
        {
          "output_type": "execute_result",
          "data": {
            "text/plain": [
              "array([[ 1.15, -0.15,  0.15, -0.15,  0.15, -0.15,  0.15],\n",
              "       [-0.15,  1.15, -0.15,  0.15, -0.15,  0.15, -0.15],\n",
              "       [ 0.15, -0.15,  1.15, -0.15,  0.15, -0.15,  0.15],\n",
              "       [-0.15,  0.15, -0.15,  1.15, -0.15,  0.15, -0.15],\n",
              "       [ 0.15, -0.15,  0.15, -0.15,  1.15, -0.15,  0.15],\n",
              "       [-0.15,  0.15, -0.15,  0.15, -0.15,  1.15, -0.15],\n",
              "       [ 0.15, -0.15,  0.15, -0.15,  0.15, -0.15,  2.15]])"
            ]
          },
          "metadata": {},
          "execution_count": 30
        }
      ]
    },
    {
      "cell_type": "code",
      "source": [
        "I = np.eye(m)\n",
        "C_p = C + I\n",
        "C_m = C - I\n",
        "\n",
        "p=m//2\n",
        "v_i = C_p[:, 0:p]\n",
        "u_i = C_m[:, 0:p]\n",
        "\n",
        "J = np.eye(m)[::-1]\n",
        "J_v_i = J @ v_i\n",
        "J_u_i = J @ u_i\n",
        "\n",
        "zero = np.zeros((1, p))\n",
        "eigvec1 = np.concatenate([v_i, zero, -J_v_i], axis=0)\n",
        "eigevec_minues1 = np.concatenate([u_i, zero, -J_u_i], axis=0)\n",
        "\n",
        "\n",
        "check_1 = G @ eigvec1 -eigvec1\n",
        "real = np.round( np.real(check) ,2 )\n",
        "image =np.round( np.imag(check) ,2 )\n",
        "real + 1j* image\n",
        "\n",
        "check_minues1 = G @ eigevec_minues1  + eigevec_minues1\n",
        "real = np.round( np.real(check_minues1) ,2 )\n",
        "image =np.round( np.imag(check_minues1) ,2 )\n",
        "real + 1j* image\n"
      ],
      "metadata": {
        "colab": {
          "base_uri": "https://localhost:8080/"
        },
        "id": "cpXFmchUivwO",
        "outputId": "e0116284-f807-41a4-8861-8e260592148a"
      },
      "execution_count": null,
      "outputs": [
        {
          "output_type": "execute_result",
          "data": {
            "text/plain": [
              "array([[ 0.+0.j,  0.+0.j, -0.+0.j],\n",
              "       [-0.+0.j,  0.+0.j,  0.+0.j],\n",
              "       [ 0.+0.j,  0.+0.j,  0.+0.j],\n",
              "       [ 0.+0.j,  0.+0.j,  0.+0.j],\n",
              "       [ 0.+0.j,  0.+0.j, -0.+0.j],\n",
              "       [ 0.+0.j,  0.+0.j,  0.+0.j],\n",
              "       [ 0.+0.j, -0.+0.j, -0.+0.j],\n",
              "       [ 0.+0.j, -0.+0.j,  0.+0.j],\n",
              "       [ 0.+0.j, -0.+0.j,  0.+0.j],\n",
              "       [ 0.+0.j, -0.+0.j,  0.+0.j],\n",
              "       [ 0.+0.j,  0.+0.j, -0.+0.j],\n",
              "       [ 0.+0.j,  0.+0.j,  0.+0.j],\n",
              "       [-0.+0.j,  0.+0.j,  0.+0.j]])"
            ]
          },
          "metadata": {},
          "execution_count": 34
        }
      ]
    },
    {
      "cell_type": "code",
      "source": [
        "D = np.eye(S.shape[0])\n",
        "D[-1, -1] = 2\n",
        "\n",
        "S_p = S + D\n",
        "S_m = S - D\n",
        "\n",
        "U_s = S_p[:, 0:p]\n",
        "V_s = S_m[:, 0:p]\n",
        "last_col = S_p[:, -1]\n",
        "\n",
        "J = np.eye(m+1)[::-1]\n",
        "J = J[1:,:]\n",
        "\n",
        "UU_s = J @ U_s\n",
        "VV_s = J @ V_s\n",
        "joint_col = J @ last_col\n",
        "\n",
        "eigen_veci =  np.concatenate([U_s, UU_s], axis=0)\n",
        "eigen_vec_minuesi = np.concatenate([V_s, VV_s], axis=0)\n",
        "new_joint = np.concatenate([last_col, joint_col], axis=0)\n",
        "\n",
        "eigbasis_G = np.concatenate([eigvec1, eigevec_minues1, eigen_veci, new_joint[:, None], eigen_vec_minuesi], axis=1)\n",
        "\n",
        "check = np.linalg.inv(eigbasis_G) @ G @ eigbasis_G\n",
        "real = np.round( np.real(check) ,2 )\n",
        "image =np.round( np.imag(check) ,2 )\n",
        "real + 1j* image\n"
      ],
      "metadata": {
        "colab": {
          "base_uri": "https://localhost:8080/"
        },
        "id": "ykvqm_PQjbc_",
        "outputId": "3944591a-448e-495d-d01f-d545d1eca4a9"
      },
      "execution_count": null,
      "outputs": [
        {
          "output_type": "execute_result",
          "data": {
            "text/plain": [
              "array([[ 1.+0.j, -0.+0.j,  0.+0.j, -0.+0.j,  0.+0.j, -0.+0.j, -0.+0.j,\n",
              "        -0.+0.j,  0.+0.j,  0.+0.j,  0.+0.j,  0.+0.j,  0.+0.j],\n",
              "       [ 0.+0.j,  1.+0.j,  0.+0.j,  0.+0.j,  0.+0.j,  0.+0.j,  0.+0.j,\n",
              "         0.+0.j,  0.+0.j,  0.+0.j,  0.+0.j, -0.+0.j,  0.+0.j],\n",
              "       [-0.+0.j, -0.+0.j,  1.+0.j,  0.+0.j, -0.+0.j,  0.+0.j,  0.+0.j,\n",
              "         0.+0.j, -0.+0.j, -0.+0.j,  0.+0.j,  0.+0.j,  0.+0.j],\n",
              "       [-0.+0.j,  0.+0.j,  0.+0.j, -1.+0.j,  0.+0.j, -0.+0.j,  0.+0.j,\n",
              "        -0.+0.j, -0.+0.j,  0.+0.j,  0.+0.j, -0.+0.j,  0.+0.j],\n",
              "       [-0.+0.j,  0.+0.j,  0.+0.j,  0.+0.j, -1.+0.j, -0.+0.j,  0.+0.j,\n",
              "         0.+0.j, -0.+0.j,  0.+0.j,  0.+0.j,  0.+0.j,  0.+0.j],\n",
              "       [-0.+0.j,  0.+0.j,  0.+0.j,  0.+0.j,  0.+0.j, -1.+0.j,  0.+0.j,\n",
              "         0.+0.j, -0.+0.j,  0.+0.j,  0.+0.j, -0.+0.j,  0.+0.j],\n",
              "       [-0.+0.j,  0.+0.j, -0.+0.j,  0.+0.j, -0.+0.j,  0.+0.j,  0.-1.j,\n",
              "         0.+0.j,  0.+0.j,  0.+0.j, -0.+0.j,  0.+0.j, -0.+0.j],\n",
              "       [ 0.+0.j, -0.+0.j,  0.+0.j,  0.+0.j,  0.+0.j,  0.+0.j,  0.+0.j,\n",
              "         0.-1.j,  0.+0.j,  0.+0.j,  0.+0.j, -0.+0.j,  0.+0.j],\n",
              "       [ 0.+0.j,  0.+0.j, -0.+0.j, -0.+0.j,  0.+0.j,  0.+0.j, -0.+0.j,\n",
              "         0.+0.j,  0.-1.j,  0.+0.j,  0.+0.j,  0.+0.j,  0.+0.j],\n",
              "       [ 0.+0.j,  0.+0.j,  0.+0.j,  0.+0.j, -0.+0.j, -0.+0.j,  0.+0.j,\n",
              "        -0.+0.j, -0.+0.j,  0.-1.j,  0.+0.j, -0.+0.j,  0.+0.j],\n",
              "       [ 0.+0.j, -0.+0.j,  0.+0.j,  0.+0.j, -0.+0.j,  0.+0.j, -0.+0.j,\n",
              "         0.+0.j,  0.+0.j,  0.+0.j,  0.+1.j,  0.+0.j,  0.+0.j],\n",
              "       [-0.+0.j,  0.+0.j,  0.+0.j,  0.+0.j,  0.+0.j,  0.+0.j,  0.+0.j,\n",
              "         0.+0.j,  0.+0.j,  0.+0.j, -0.+0.j,  0.+1.j,  0.+0.j],\n",
              "       [ 0.+0.j,  0.+0.j,  0.+0.j,  0.+0.j,  0.+0.j,  0.+0.j,  0.+0.j,\n",
              "         0.+0.j,  0.+0.j,  0.+0.j,  0.+0.j,  0.+0.j,  0.+1.j]])"
            ]
          },
          "metadata": {},
          "execution_count": 37
        }
      ]
    },
    {
      "cell_type": "code",
      "source": [
        "entries =  np.array([1 if i % 2 == 0 else -1 for i in range(N)])\n",
        "D = np.diag(entries)\n",
        "\n",
        "T =  np.zeros((N,N))\n",
        "T[0,-1]=1\n",
        "T[1: , :-1] = np.eye(N-1)\n",
        "\n",
        "eigvec_GtoF = np.linalg.matrix_power(T , m+1) @ D @ eigbasis_G\n",
        "\n",
        "check = np.linalg.inv(eigvec_GtoF) @ F @ eigvec_GtoF\n",
        "real = np.round( np.real(check) ,2 )\n",
        "image =np.round( np.imag(check) ,2 )\n",
        "real + 1j* image\n",
        "\n",
        "T @ np.transpose(T)"
      ],
      "metadata": {
        "colab": {
          "base_uri": "https://localhost:8080/"
        },
        "id": "t_wmUoEJmNep",
        "outputId": "faca9ece-7964-450f-fbe0-5428567980db"
      },
      "execution_count": null,
      "outputs": [
        {
          "output_type": "execute_result",
          "data": {
            "text/plain": [
              "array([[1., 0., 0., 0., 0., 0., 0., 0., 0., 0., 0., 0., 0.],\n",
              "       [0., 1., 0., 0., 0., 0., 0., 0., 0., 0., 0., 0., 0.],\n",
              "       [0., 0., 1., 0., 0., 0., 0., 0., 0., 0., 0., 0., 0.],\n",
              "       [0., 0., 0., 1., 0., 0., 0., 0., 0., 0., 0., 0., 0.],\n",
              "       [0., 0., 0., 0., 1., 0., 0., 0., 0., 0., 0., 0., 0.],\n",
              "       [0., 0., 0., 0., 0., 1., 0., 0., 0., 0., 0., 0., 0.],\n",
              "       [0., 0., 0., 0., 0., 0., 1., 0., 0., 0., 0., 0., 0.],\n",
              "       [0., 0., 0., 0., 0., 0., 0., 1., 0., 0., 0., 0., 0.],\n",
              "       [0., 0., 0., 0., 0., 0., 0., 0., 1., 0., 0., 0., 0.],\n",
              "       [0., 0., 0., 0., 0., 0., 0., 0., 0., 1., 0., 0., 0.],\n",
              "       [0., 0., 0., 0., 0., 0., 0., 0., 0., 0., 1., 0., 0.],\n",
              "       [0., 0., 0., 0., 0., 0., 0., 0., 0., 0., 0., 1., 0.],\n",
              "       [0., 0., 0., 0., 0., 0., 0., 0., 0., 0., 0., 0., 1.]])"
            ]
          },
          "metadata": {},
          "execution_count": 51
        }
      ]
    },
    {
      "cell_type": "code",
      "source": [
        "q = N //2\n",
        "\n",
        "Tq =np.linalg.matrix_power(T, q)\n",
        "Tq_inv =  np.transpose(Tq)\n",
        "\n",
        "eig_centered = np.linalg.matrix_power(T, q) @ eigvec_GtoF\n",
        "centered_fourier  = Tq @ F @ Tq_inv\n",
        "\n",
        "check = np.linalg.matrix_power( centered_fourier,4)\n",
        "real = np.round( np.real(check) ,2 )\n",
        "image =np.round( np.imag(check) ,2 )\n",
        "real + 1j* image\n",
        "\n",
        "check = np.linalg.inv(eig_centered) @ centered_fourier @ eig_centered\n",
        "real = np.round( np.real(check) ,2 )\n",
        "image =np.round( np.imag(check) ,2 )\n",
        "real + 1j* image"
      ],
      "metadata": {
        "id": "3dp5wvopLbJL",
        "colab": {
          "base_uri": "https://localhost:8080/"
        },
        "outputId": "e82dbfdd-45b6-4d67-fb2e-d5799547dfd4"
      },
      "execution_count": null,
      "outputs": [
        {
          "output_type": "execute_result",
          "data": {
            "text/plain": [
              "array([[ 0.+1.j,  0.+0.j, -0.+0.j, -0.+0.j,  0.+0.j, -0.+0.j,  0.+0.j,\n",
              "         0.+0.j, -0.+0.j, -0.+0.j, -0.+0.j, -0.+0.j,  0.+0.j],\n",
              "       [ 0.+0.j,  0.+1.j,  0.+0.j, -0.+0.j,  0.+0.j,  0.+0.j,  0.+0.j,\n",
              "        -0.+0.j,  0.+0.j,  0.+0.j,  0.+0.j,  0.+0.j,  0.+0.j],\n",
              "       [-0.+0.j, -0.+0.j,  0.+1.j,  0.+0.j,  0.+0.j,  0.+0.j,  0.+0.j,\n",
              "        -0.+0.j,  0.+0.j,  0.+0.j,  0.+0.j,  0.+0.j, -0.+0.j],\n",
              "       [ 0.+0.j,  0.+0.j,  0.+0.j,  0.-1.j, -0.+0.j, -0.+0.j,  0.+0.j,\n",
              "         0.+0.j,  0.+0.j, -0.+0.j,  0.+0.j, -0.+0.j,  0.+0.j],\n",
              "       [ 0.+0.j,  0.+0.j,  0.+0.j,  0.+0.j,  0.-1.j,  0.+0.j,  0.+0.j,\n",
              "         0.+0.j,  0.+0.j, -0.+0.j,  0.+0.j, -0.+0.j,  0.+0.j],\n",
              "       [ 0.+0.j,  0.+0.j,  0.+0.j,  0.+0.j, -0.+0.j,  0.-1.j,  0.+0.j,\n",
              "         0.+0.j,  0.+0.j, -0.+0.j,  0.+0.j, -0.+0.j,  0.+0.j],\n",
              "       [ 0.+0.j,  0.+0.j,  0.+0.j,  0.+0.j, -0.+0.j,  0.+0.j,  1.+0.j,\n",
              "         0.+0.j,  0.+0.j,  0.+0.j, -0.+0.j, -0.+0.j,  0.+0.j],\n",
              "       [ 0.+0.j,  0.+0.j,  0.+0.j,  0.+0.j, -0.+0.j, -0.+0.j,  0.+0.j,\n",
              "         1.+0.j,  0.+0.j,  0.+0.j,  0.+0.j,  0.+0.j,  0.+0.j],\n",
              "       [ 0.+0.j,  0.+0.j,  0.+0.j, -0.+0.j,  0.+0.j,  0.+0.j,  0.+0.j,\n",
              "         0.+0.j,  1.+0.j, -0.+0.j,  0.+0.j,  0.+0.j,  0.+0.j],\n",
              "       [ 0.+0.j,  0.+0.j,  0.+0.j,  0.+0.j, -0.+0.j,  0.+0.j,  0.+0.j,\n",
              "         0.+0.j, -0.+0.j,  1.+0.j,  0.+0.j,  0.+0.j,  0.+0.j],\n",
              "       [ 0.+0.j,  0.+0.j,  0.+0.j,  0.+0.j,  0.+0.j,  0.+0.j, -0.+0.j,\n",
              "        -0.+0.j,  0.+0.j,  0.+0.j, -1.+0.j,  0.+0.j,  0.+0.j],\n",
              "       [ 0.+0.j,  0.+0.j,  0.+0.j,  0.+0.j, -0.+0.j,  0.+0.j, -0.+0.j,\n",
              "        -0.+0.j,  0.+0.j,  0.+0.j,  0.+0.j, -1.+0.j,  0.+0.j],\n",
              "       [ 0.+0.j,  0.+0.j,  0.+0.j,  0.+0.j, -0.+0.j,  0.+0.j, -0.+0.j,\n",
              "         0.+0.j,  0.+0.j, -0.+0.j,  0.+0.j, -0.+0.j, -1.+0.j]])"
            ]
          },
          "metadata": {},
          "execution_count": 61
        }
      ]
    },
    {
      "cell_type": "markdown",
      "source": [
        "check diagon..\n"
      ],
      "metadata": {
        "id": "uF0sGIEjkBQf"
      }
    },
    {
      "cell_type": "code",
      "source": [
        "import numpy as np\n",
        "\n",
        "n = 5\n",
        "l = np.arange(n)\n",
        "w = np.exp((2 * np.pi * 1j) / n)\n",
        "\n",
        "left_side = np.exp((-1j * np.pi) / n) * (w ** (-(l + 0.5)))\n",
        "right_side = w ** ((n - 1) * (l + 0.5))\n",
        "\n",
        "print(\"Left Side (exp((-i*pi)/n) * w^(-(l+1/2))):\")\n",
        "print(np.round(left_side, 4))\n",
        "\n",
        "print(\"\\nRight Side (w^((n-1)*(l+1/2))):\")\n",
        "print(np.round(right_side, 4))\n",
        "\n",
        "is_equal = np.allclose(left_side, right_side, atol=1e-10)\n",
        "print(\"\\nAre they equal for each l?\")\n",
        "print(is_equal)\n"
      ],
      "metadata": {
        "id": "uLWtSj7SmCFB",
        "outputId": "f7436506-1e09-46b0-abc3-eb08ad504e3d",
        "colab": {
          "base_uri": "https://localhost:8080/",
          "height": 0
        }
      },
      "execution_count": 4,
      "outputs": [
        {
          "output_type": "stream",
          "name": "stdout",
          "text": [
            "Left Side (exp((-i*pi)/n) * w^(-(l+1/2))):\n",
            "[ 0.309-0.9511j -0.809-0.5878j -0.809+0.5878j  0.309+0.9511j\n",
            "  1.   +0.j    ]\n",
            "\n",
            "Right Side (w^((n-1)*(l+1/2))):\n",
            "[-0.809+0.5878j  0.309+0.9511j  1.   -0.j      0.309-0.9511j\n",
            " -0.809-0.5878j]\n",
            "\n",
            "Are they equal for each l?\n",
            "False\n"
          ]
        }
      ]
    },
    {
      "cell_type": "markdown",
      "source": [
        "circulant"
      ],
      "metadata": {
        "id": "gmYOeTY-H9Jk"
      }
    },
    {
      "cell_type": "code",
      "source": [
        "import numpy as np\n",
        "n=11\n",
        "c = np.arange(n)\n",
        "\n",
        "n = len(c)\n",
        "C = np.zeros((n, n), dtype=int)\n",
        "\n",
        "for i in range(n):\n",
        "    row = np.roll(c, i)\n",
        "    row[:i] *= -1\n",
        "    C[i] = row\n",
        "\n",
        "print(\"Matrix C:\")\n",
        "print(C)\n"
      ],
      "metadata": {
        "id": "X2ybqbPcICdO",
        "outputId": "c7101fd7-3096-4e52-f5cd-10cd04d52cf5",
        "colab": {
          "base_uri": "https://localhost:8080/",
          "height": 0
        }
      },
      "execution_count": 8,
      "outputs": [
        {
          "output_type": "stream",
          "name": "stdout",
          "text": [
            "Matrix C:\n",
            "[[  0   1   2   3   4   5   6   7   8   9  10]\n",
            " [-10   0   1   2   3   4   5   6   7   8   9]\n",
            " [ -9 -10   0   1   2   3   4   5   6   7   8]\n",
            " [ -8  -9 -10   0   1   2   3   4   5   6   7]\n",
            " [ -7  -8  -9 -10   0   1   2   3   4   5   6]\n",
            " [ -6  -7  -8  -9 -10   0   1   2   3   4   5]\n",
            " [ -5  -6  -7  -8  -9 -10   0   1   2   3   4]\n",
            " [ -4  -5  -6  -7  -8  -9 -10   0   1   2   3]\n",
            " [ -3  -4  -5  -6  -7  -8  -9 -10   0   1   2]\n",
            " [ -2  -3  -4  -5  -6  -7  -8  -9 -10   0   1]\n",
            " [ -1  -2  -3  -4  -5  -6  -7  -8  -9 -10   0]]\n"
          ]
        }
      ]
    },
    {
      "cell_type": "markdown",
      "source": [
        "diagonalization"
      ],
      "metadata": {
        "id": "dSmPOfW2KdeM"
      }
    },
    {
      "cell_type": "code",
      "source": [
        "import numpy as np\n",
        "\n",
        "n = 11\n",
        "c = np.arange(n)\n",
        "n = len(c)\n",
        "C = np.zeros((n, n), dtype=int)\n",
        "\n",
        "for i in range(n):\n",
        "    row = np.roll(c, i)\n",
        "    row[:i] *= -1\n",
        "    C[i] = row\n",
        "\n",
        "\n",
        "\n",
        "w = np.exp((2 * np.pi * 1j) / n)\n",
        "G = np.zeros((n, n), dtype=complex)\n",
        "\n",
        "for k in range(n):\n",
        "    for l in range(n):\n",
        "        G[k, l] = w ** ((k + 0.5) * (l + 0.5))\n",
        "\n",
        "G_inv = np.linalg.inv(G)\n",
        "D = G_inv @ C @ G\n",
        "\n",
        "is_diagonal = np.allclose(D, np.diag(np.diag(D)), atol=1e-10)\n",
        "\n",
        "print(\"Matrix C:\")\n",
        "print(C)\n",
        "print(\"\\nMatrix D (G^-1 * C * G):\")\n",
        "print(np.round(D, 4))\n",
        "print(\"\\nIs it diagonal?\", is_diagonal)\n"
      ],
      "metadata": {
        "id": "OCpdYgqmKgW1",
        "outputId": "74664270-0cbe-450f-b752-125b2826f72a",
        "colab": {
          "base_uri": "https://localhost:8080/",
          "height": 0
        }
      },
      "execution_count": 9,
      "outputs": [
        {
          "output_type": "stream",
          "name": "stdout",
          "text": [
            "Matrix C:\n",
            "[[  0   1   2   3   4   5   6   7   8   9  10]\n",
            " [-10   0   1   2   3   4   5   6   7   8   9]\n",
            " [ -9 -10   0   1   2   3   4   5   6   7   8]\n",
            " [ -8  -9 -10   0   1   2   3   4   5   6   7]\n",
            " [ -7  -8  -9 -10   0   1   2   3   4   5   6]\n",
            " [ -6  -7  -8  -9 -10   0   1   2   3   4   5]\n",
            " [ -5  -6  -7  -8  -9 -10   0   1   2   3   4]\n",
            " [ -4  -5  -6  -7  -8  -9 -10   0   1   2   3]\n",
            " [ -3  -4  -5  -6  -7  -8  -9 -10   0   1   2]\n",
            " [ -2  -3  -4  -5  -6  -7  -8  -9 -10   0   1]\n",
            " [ -1  -2  -3  -4  -5  -6  -7  -8  -9 -10   0]]\n",
            "\n",
            "Matrix D (G^-1 * C * G):\n",
            "[[-19.1871+38.2533j   0.     +0.j       0.     -0.j      -0.     +0.j\n",
            "   -0.     +0.j       0.     +0.j      -0.     -0.j      -0.     -0.j\n",
            "    0.     +0.j       0.     -0.j       0.     +0.j    ]\n",
            " [ -0.     -0.j       2.6026+12.0433j   0.     -0.j       0.     +0.j\n",
            "    0.     -0.j      -0.     -0.j       0.     -0.j      -0.     -0.j\n",
            "    0.     +0.j       0.     +0.j       0.     +0.j    ]\n",
            " [ -0.     +0.j       0.     -0.j       4.3341 +6.3473j  -0.     +0.j\n",
            "    0.     +0.j       0.     +0.j      -0.     -0.j       0.     -0.j\n",
            "   -0.     +0.j       0.     +0.j      -0.     -0.j    ]\n",
            " [ -0.     +0.j       0.     -0.j      -0.     +0.j       4.7935 +3.5346j\n",
            "    0.     -0.j       0.     +0.j       0.     +0.j       0.     -0.j\n",
            "    0.     +0.j      -0.     -0.j       0.     -0.j    ]\n",
            " [  0.     +0.j       0.     -0.j       0.     -0.j       0.     +0.j\n",
            "    4.9569 +1.6149j   0.     +0.j      -0.     -0.j       0.     +0.j\n",
            "   -0.     +0.j       0.     -0.j       0.     -0.j    ]\n",
            " [  0.     -0.j      -0.     -0.j       0.     +0.j       0.     -0.j\n",
            "    0.     -0.j       5.     -0.j       0.     -0.j       0.     -0.j\n",
            "   -0.     +0.j       0.     +0.j       0.     +0.j    ]\n",
            " [ -0.     -0.j       0.     +0.j      -0.     -0.j      -0.     +0.j\n",
            "   -0.     +0.j       0.     +0.j       4.9569 -1.6149j   0.     +0.j\n",
            "   -0.     -0.j      -0.     +0.j      -0.     -0.j    ]\n",
            " [ -0.     -0.j      -0.     -0.j       0.     -0.j       0.     -0.j\n",
            "   -0.     +0.j      -0.     +0.j       0.     -0.j       4.7935 -3.5346j\n",
            "    0.     -0.j      -0.     -0.j       0.     -0.j    ]\n",
            " [ -0.     +0.j       0.     -0.j      -0.     -0.j       0.     +0.j\n",
            "    0.     -0.j      -0.     +0.j      -0.     -0.j       0.     +0.j\n",
            "    4.3341 -6.3473j   0.     -0.j       0.     +0.j    ]\n",
            " [ -0.     -0.j       0.     -0.j       0.     -0.j       0.     +0.j\n",
            "   -0.     -0.j       0.     -0.j       0.     +0.j      -0.     -0.j\n",
            "    0.     -0.j       2.6026-12.0433j   0.     -0.j    ]\n",
            " [  0.     +0.j       0.     -0.j       0.     +0.j      -0.     -0.j\n",
            "    0.     -0.j      -0.     +0.j       0.     -0.j       0.     +0.j\n",
            "    0.     -0.j      -0.     -0.j     -19.1871-38.2533j]]\n",
            "\n",
            "Is it diagonal? True\n"
          ]
        }
      ]
    },
    {
      "cell_type": "markdown",
      "source": [
        "polynomial\n"
      ],
      "metadata": {
        "id": "CxmM2_YQG5O3"
      }
    },
    {
      "cell_type": "code",
      "source": [
        "import sympy\n",
        "from sympy import symbols, Eq, solve, I, pi, exp\n",
        "\n",
        "c0, c1, c2 = symbols('c0 c1 c2')\n",
        "b = exp(pi*I/6)\n",
        "\n",
        "eq1 = Eq(c0 + c1 * b**2 + c2 * b**4, b)\n",
        "eq2 = Eq(c0 - c1 + c2, I)\n",
        "eq3 = Eq(c0 - c1 * b**4 - c2 * b**2, b**5)\n",
        "\n",
        "solutions = solve((eq1, eq2, eq3), (c0, c1, c2))\n",
        "\n",
        "print(solutions)"
      ],
      "metadata": {
        "id": "ONtCtbcvG9Tz",
        "outputId": "ddf643ba-f5a0-443f-b026-c2916ba26c87",
        "colab": {
          "base_uri": "https://localhost:8080/",
          "height": 0
        }
      },
      "execution_count": 1,
      "outputs": [
        {
          "output_type": "stream",
          "name": "stdout",
          "text": [
            "{c0: -4*I/3 + 2*I*exp(I*pi/3) - 2*exp(-5*I*pi/6), c1: 2*exp(-5*I*pi/6) - 2*I*exp(I*pi/3) + 4*I/3, c2: exp(-5*I*pi/6) - I*exp(I*pi/3) + 2*I/3}\n"
          ]
        }
      ]
    },
    {
      "cell_type": "code",
      "source": [],
      "metadata": {
        "id": "d0pe8fyRG_DV"
      },
      "execution_count": null,
      "outputs": []
    }
  ]
}