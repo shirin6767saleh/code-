{
  "nbformat": 4,
  "nbformat_minor": 0,
  "metadata": {
    "colab": {
      "provenance": [],
      "authorship_tag": "ABX9TyPrQDgCj7Z8wjlNmQzKoPBj",
      "include_colab_link": true
    },
    "kernelspec": {
      "name": "python3",
      "display_name": "Python 3"
    },
    "language_info": {
      "name": "python"
    }
  },
  "cells": [
    {
      "cell_type": "markdown",
      "metadata": {
        "id": "view-in-github",
        "colab_type": "text"
      },
      "source": [
        "<a href=\"https://colab.research.google.com/github/shirin6767saleh/code-/blob/main/F%20even.ipynb\" target=\"_parent\"><img src=\"https://colab.research.google.com/assets/colab-badge.svg\" alt=\"Open In Colab\"/></a>"
      ]
    },
    {
      "cell_type": "markdown",
      "source": [
        "# Let $F$ denote a discrete Fourier\n",
        "\n",
        "*   List item\n",
        "*   List item\n",
        "\n",
        "Let \\( F \\) be the discrete Fourier transform (DFT) operator, which satisfies the following algebraic properties:\n",
        "\n",
        "\\begin{align*}\n",
        "F^2 &= 1\\oplus J_{n-1}, \\\\\n",
        "F^4 &= I,\n",
        "\\end{align*}\n",
        "\n",
        "where:\n",
        "\n",
        "-  $J$ is the antidiagonal matrix,\n",
        "-  $I$ is the identity matrix of appropriate dimension."
      ],
      "metadata": {
        "id": "SYCNBCXNv5Xc"
      }
    },
    {
      "cell_type": "code",
      "source": [
        "import numpy as np\n",
        "from numpy.linalg import norm\n",
        "from scipy.linalg import block_diag\n",
        "\n",
        "# === Parameters ===\n",
        "m = 100\n",
        "N = 2 * m\n",
        "pi = np.pi\n",
        "w = np.exp(-2j * pi / N)\n",
        "\n",
        "# === Construct Identity and Symmetry Matrix ===\n",
        "I = np.eye(N)\n",
        "J_N = np.fliplr(np.eye(N, dtype=int))  # Reflection operator\n",
        "J_N_1 = np.fliplr(np.eye(N - 1, dtype=int))\n",
        "direct_sum_matrix = block_diag(1, J_N_1)\n",
        "# === Construct  Matrix ّ ===\n",
        "F = np.zeros((N, N), dtype=complex)\n",
        "for k in range(N):\n",
        "    F[k] = np.sqrt(1 / N) * np.array([\n",
        "        w ** ((k ) * (l )) for l in range(N)\n",
        "    ])\n",
        "\n",
        "# === Matrix Powers ===\n",
        "F2 = np.linalg.matrix_power(F, 2)\n",
        "F4 = np.linalg.matrix_power(F, 4)\n",
        "F3 = np.linalg.matrix_power(F,3)\n",
        "F_H = np.conj(F).T\n",
        "# === Identity Verification ===\n",
        "print(\"\\n--- Algebraic Identity Checks ---\")\n",
        "\n",
        "if np.allclose(F2, direct_sum_matrix, atol=1e-10):\n",
        "    print(\"✅ F² = direct_sum_matrix\")\n",
        "else:\n",
        "    print(\"❌ F² ≠ direct_sum_matrix\")\n",
        "\n",
        "if np.allclose(F3, F_H, atol=1e-10):\n",
        "    print(\"✅ F³ = F_H confirmed\")\n",
        "else:\n",
        "    print(\"❌ F³ ≠ F_H\")\n",
        "\n",
        "if np.allclose(F4, I, atol=1e-10):\n",
        "    print(\"✅ F⁴ = I confirmed\")\n",
        "else:\n",
        "    print(\"❌ F⁴ ≠ I\")\n",
        "\n",
        "print(\"----------------------------------\\n\")\n",
        "\n"
      ],
      "metadata": {
        "colab": {
          "base_uri": "https://localhost:8080/"
        },
        "id": "NBLF6lddv8Ym",
        "outputId": "971f1175-2db2-4467-b9dd-be17428da9ef"
      },
      "execution_count": 1,
      "outputs": [
        {
          "output_type": "stream",
          "name": "stdout",
          "text": [
            "\n",
            "--- Algebraic Identity Checks ---\n",
            "✅ F² = direct_sum_matrix\n",
            "✅ F³ = F_H confirmed\n",
            "✅ F⁴ = I confirmed\n",
            "----------------------------------\n",
            "\n"
          ]
        }
      ]
    }
  ]
}