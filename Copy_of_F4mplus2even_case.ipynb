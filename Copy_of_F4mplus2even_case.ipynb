{
  "nbformat": 4,
  "nbformat_minor": 0,
  "metadata": {
    "colab": {
      "provenance": [],
      "include_colab_link": true
    },
    "kernelspec": {
      "name": "python3",
      "display_name": "Python 3"
    },
    "language_info": {
      "name": "python"
    }
  },
  "cells": [
    {
      "cell_type": "markdown",
      "metadata": {
        "id": "view-in-github",
        "colab_type": "text"
      },
      "source": [
        "<a href=\"https://colab.research.google.com/github/shirin6767saleh/code-/blob/Fnew/Copy_of_F4mplus2even_case.ipynb\" target=\"_parent\"><img src=\"https://colab.research.google.com/assets/colab-badge.svg\" alt=\"Open In Colab\"/></a>"
      ]
    },
    {
      "cell_type": "markdown",
      "source": [
        "# Let $F$ denote a discrete Fourier\n",
        "\n",
        "*   List item\n",
        "*   List item\n",
        "\n",
        "Let \\( F \\) be the discrete Fourier transform (DFT) operator, which satisfies the following algebraic properties:\n",
        "\n",
        "\\begin{align*}\n",
        "F^2 &= 1\\oplus J_{n-1}, \\\\\n",
        "F^4 &= I,\n",
        "\\end{align*}\n",
        "\n",
        "where:\n",
        "\n",
        "-  $J$ is the antidiagonal matrix,\n",
        "-  $I$ is the identity matrix of appropriate dimension.\n"
      ],
      "metadata": {
        "id": "dd6dAekQbqll"
      }
    },
    {
      "cell_type": "code",
      "source": [
        "import numpy as np\n",
        "from numpy.linalg import norm\n",
        "from scipy.linalg import block_diag\n",
        "\n",
        "# === Parameters ===\n",
        "m = 3\n",
        "N = 4 * m + 2\n",
        "pi = np.pi\n",
        "w = np.exp(-2j * pi / N)\n",
        "\n",
        "# === Construct Identity and Symmetry Matrix ===\n",
        "I = np.eye(N)\n",
        "J_N = np.fliplr(np.eye(N, dtype=int))  # Reflection operator\n",
        "J_N_1 = np.fliplr(np.eye(N - 1, dtype=int))\n",
        "direct_sum_matrix = block_diag(1, J_N_1)\n",
        "# === Construct  Matrix ّ ===\n",
        "F = np.zeros((N, N), dtype=complex)\n",
        "for k in range(N):\n",
        "    F[k] = np.sqrt(1 / N) * np.array([\n",
        "        w ** ((k ) * (l )) for l in range(N)\n",
        "    ])\n",
        "\n",
        "# === Matrix Powers ===\n",
        "F2 = np.linalg.matrix_power(F, 2)\n",
        "F4 = np.linalg.matrix_power(F, 4)\n",
        "F3 = np.linalg.matrix_power(F,3)\n",
        "F_H = np.conj(F).T\n",
        "# === Identity Verification ===\n",
        "print(\"\\n--- Algebraic Identity Checks ---\")\n",
        "\n",
        "if np.allclose(F2, direct_sum_matrix, atol=1e-10):\n",
        "    print(\"✅ F² = direct_sum_matrix\")\n",
        "else:\n",
        "    print(\"❌ F² ≠ direct_sum_matrix\")\n",
        "\n",
        "if np.allclose(F3, F_H, atol=1e-10):\n",
        "    print(\"✅ F³ = F_H confirmed\")\n",
        "else:\n",
        "    print(\"❌ F³ ≠ F_H\")\n",
        "\n",
        "if np.allclose(F4, I, atol=1e-10):\n",
        "    print(\"✅ F⁴ = I confirmed\")\n",
        "else:\n",
        "    print(\"❌ F⁴ ≠ I\")\n",
        "\n",
        "print(\"----------------------------------\\n\")\n",
        "\n"
      ],
      "metadata": {
        "colab": {
          "base_uri": "https://localhost:8080/"
        },
        "id": "xhj21NhAbn0-",
        "outputId": "3f5fbff2-3dd8-4ee0-91ed-5de98a01aa19"
      },
      "execution_count": 28,
      "outputs": [
        {
          "output_type": "stream",
          "name": "stdout",
          "text": [
            "\n",
            "--- Algebraic Identity Checks ---\n",
            "✅ F² = direct_sum_matrix\n",
            "✅ F³ = F_H confirmed\n",
            "✅ F⁴ = I confirmed\n",
            "----------------------------------\n",
            "\n"
          ]
        }
      ]
    },
    {
      "cell_type": "code",
      "source": [
        "FDCT = np.zeros_like(F)\n",
        "FDST = np.zeros_like(F)\n",
        "\n",
        "# === Construct FDCT and FDST ===\n",
        "for k in range(N):\n",
        "    FDCT[k] = (2 / np.sqrt(N)) * np.array([\n",
        "        np.cos((k * l * 2 * np.pi) / N) for l in range(N)\n",
        "    ])\n",
        "    FDST[k] = (2 / np.sqrt(N)) * np.array([\n",
        "        np.sin((k * l * 2 * np.pi) / N) for l in range(N)\n",
        "    ])\n",
        "# === Check the connection between FDCT and F ===\n",
        "\n",
        "print(\"\\n--- FDCT Connection Analysis ---\")\n",
        "if np.allclose(FDCT, F3 + F, atol=1e-10):\n",
        "    print(\"✅ FDCT = F3 + F confirmed\")\n",
        "else:\n",
        "    print(\"❌ FDCT ≠ F3 + F\")\n",
        "\n",
        "# === Part 1: FDCT Squared Identity ===\n",
        "Square_FDCT = FDCT @ FDCT\n",
        "\n",
        "print(\"\\n--- FDCT Analysis ---\")\n",
        "if np.allclose(Square_FDCT, 2 * (I + F2), atol=1e-10):\n",
        "    print(\"✅ FDCT² = 2·(I + F2) confirmed\")\n",
        "else:\n",
        "    print(\"❌ FDCT² ≠ 2·(I + F2)\")\n",
        "\n",
        "# Eigenvalue spectrum of FDCT\n",
        "eigvals_FDCT = np.unique(np.round(np.linalg.eigvals(FDCT), decimals=5))\n",
        "print(f\"Eigenvalues of FDCT: {eigvals_FDCT}\")\n",
        "print(\"*\" * 40)\n",
        "\n",
        "\n",
        "# === Check the connection between FDST and F ===\n",
        "\n",
        "print(\"\\n--- FDST Connection Analysis ---\")\n",
        "if np.allclose(FDST, 1j * (F - F3), atol=1e-10):\n",
        "    print(\"✅ FDST = 1j * (F - F3) confirmed\")\n",
        "else:\n",
        "    print(\"❌ FDST ≠ 1j * (F - F3)\")\n",
        "\n",
        "\n",
        "# === Part 2: FDST Squared Identity ===\n",
        "Square_FDST = FDST @ FDST\n",
        "\n",
        "print(\"\\n--- FDST Analysis ---\")\n",
        "if np.allclose(Square_FDST, 2 * (I - F2), atol=1e-10):\n",
        "    print(\"✅ FDST² = 2·(I - F2) confirmed\")\n",
        "else:\n",
        "    print(\"❌ FDST² ≠ 2·(I + F2)\")\n",
        "\n",
        "# Eigenvalue spectrum of FDST\n",
        "eigvals_FDST = np.unique(np.round(np.linalg.eigvals(FDST), decimals=5))\n",
        "print(f\"Eigenvalues of FDST: {eigvals_FDST}\")\n",
        "print(\"*\" * 40)\n",
        "\n",
        "\n"
      ],
      "metadata": {
        "colab": {
          "base_uri": "https://localhost:8080/"
        },
        "id": "aQgNFzrghING",
        "outputId": "a9f04f21-64b2-4a63-92da-d69b9cf317a1"
      },
      "execution_count": 29,
      "outputs": [
        {
          "output_type": "stream",
          "name": "stdout",
          "text": [
            "\n",
            "--- FDCT Connection Analysis ---\n",
            "✅ FDCT = F3 + F confirmed\n",
            "\n",
            "--- FDCT Analysis ---\n",
            "✅ FDCT² = 2·(I + F2) confirmed\n",
            "Eigenvalues of FDCT: [-2.+0.j  0.+0.j  2.+0.j]\n",
            "****************************************\n",
            "\n",
            "--- FDST Connection Analysis ---\n",
            "✅ FDST = 1j * (F - F3) confirmed\n",
            "\n",
            "--- FDST Analysis ---\n",
            "✅ FDST² = 2·(I - F2) confirmed\n",
            "Eigenvalues of FDST: [-2.+0.j -0.+0.j  2.+0.j]\n",
            "****************************************\n"
          ]
        }
      ]
    },
    {
      "cell_type": "code",
      "source": [
        "# === Verify algebraic decomposition of F ===\n",
        "check1 = np.round(F3 + F - FDCT, 2)\n",
        "check2 = np.round((1j * (F - F3)) - FDST, 2)\n",
        "\n",
        "zero_matrix = np.zeros_like(F)\n",
        "print(\"\\n--- Decomposition Verification ---\")\n",
        "if np.allclose(check1, zero_matrix) and np.allclose(check2, zero_matrix):\n",
        "    print(\"✅ F3 + F = FDCT and 1j * (F - F3) = FDST confirmed\")\n",
        "else:\n",
        "    print(\"❌ Decomposition mismatch detected\")\n",
        "print(\"----------------------------------\")\n",
        "\n",
        "# === Construct eigenspace components ===\n",
        "Eig_pos1 = (I + direct_sum_matrix) + FDCT       # eigval +1\n",
        "Eig_neg1 = (I + direct_sum_matrix) - FDCT       # eigval -1\n",
        "Eig_posi = (I - direct_sum_matrix) - FDST       # eigval +i\n",
        "Eig_negi = (I - direct_sum_matrix) + FDST       # eigval -i\n",
        "\n",
        "# === Verify eigenvalue equations Fv = λv ===\n",
        "print(\"\\n--- Eigenvalue Verification ---\")\n",
        "def check_eigvec(eig_matrix, expected, label):\n",
        "    if np.allclose(F @ eig_matrix, expected * eig_matrix, atol=1e-2):\n",
        "        print(f\"✅ EigVecs confirmed for eigenvalue {label}\")\n",
        "    else:\n",
        "        print(f\"❌ EigVecs failed for eigenvalue {label}\")\n",
        "\n",
        "check_eigvec(Eig_pos1,  1,   \"+1\")\n",
        "check_eigvec(Eig_neg1, -1,   \"-1\")\n",
        "check_eigvec(Eig_posi,  1j,  \"+i\")\n",
        "check_eigvec(Eig_negi, -1j,  \"-i\")\n",
        "print(\"----------------------------------\")\n",
        "\n",
        "# === Construct normalized projection matrices ===\n",
        "Proj_pos1 = (1/4) * Eig_pos1\n",
        "Proj_neg1 = (1/4) * Eig_neg1\n",
        "Proj_posi = (1/4) * Eig_posi\n",
        "Proj_negi = (1/4) * Eig_negi\n",
        "\n",
        "# === Check idempotence: P^2 = P ===\n",
        "print(\"\\n--- Idempotence Checks for Projectors ---\")\n",
        "def check_idempotent(P, label):\n",
        "    if np.allclose(P @ P, P, atol=1e-2):\n",
        "        print(f\"✅ Proj_{{{label}}} is idempotent\")\n",
        "    else:\n",
        "        print(f\"❌ Proj_{{{label}}} is not idempotent\")\n",
        "\n",
        "check_idempotent(Proj_pos1, \"+1\")\n",
        "check_idempotent(Proj_neg1, \"-1\")\n",
        "check_idempotent(Proj_posi, \"+i\")\n",
        "check_idempotent(Proj_negi, \"-i\")\n",
        "print(\"------------------------------------------\\n\")\n",
        "\n",
        "# === Final identity decomposition check ===\n",
        "identity_operator = Proj_pos1 + Proj_neg1 + Proj_posi + Proj_negi\n",
        "\n",
        "print(\"\\n--- Identity Decomposition Check ---\")\n",
        "if np.allclose(np.eye(N), identity_operator, atol=1e-2):\n",
        "    print(\"✅ I = Proj_{+1} + Proj_{-1} + Proj_{+i} + Proj_{-i} confirmed\")\n",
        "else:\n",
        "    print(\"❌ Identity cannot be decomposed into spectral projections\")\n",
        "print(\"------------------------------------------\")\n"
      ],
      "metadata": {
        "colab": {
          "base_uri": "https://localhost:8080/"
        },
        "id": "fdo5kupTiKbf",
        "outputId": "683475c4-c17e-4a46-c328-fa923126deab"
      },
      "execution_count": 30,
      "outputs": [
        {
          "output_type": "stream",
          "name": "stdout",
          "text": [
            "\n",
            "--- Decomposition Verification ---\n",
            "✅ F3 + F = FDCT and 1j * (F - F3) = FDST confirmed\n",
            "----------------------------------\n",
            "\n",
            "--- Eigenvalue Verification ---\n",
            "✅ EigVecs confirmed for eigenvalue +1\n",
            "✅ EigVecs confirmed for eigenvalue -1\n",
            "✅ EigVecs confirmed for eigenvalue +i\n",
            "✅ EigVecs confirmed for eigenvalue -i\n",
            "----------------------------------\n",
            "\n",
            "--- Idempotence Checks for Projectors ---\n",
            "✅ Proj_{+1} is idempotent\n",
            "✅ Proj_{-1} is idempotent\n",
            "✅ Proj_{+i} is idempotent\n",
            "✅ Proj_{-i} is idempotent\n",
            "------------------------------------------\n",
            "\n",
            "\n",
            "--- Identity Decomposition Check ---\n",
            "✅ I = Proj_{+1} + Proj_{-1} + Proj_{+i} + Proj_{-i} confirmed\n",
            "------------------------------------------\n"
          ]
        }
      ]
    },
    {
      "cell_type": "code",
      "source": [
        "#==== Selected Columns ====#\n",
        "Eig_F1 = ((I + direct_sum_matrix) + FDCT) [: , 0:m]\n",
        "Eig_F_neg1 = ((I + direct_sum_matrix) - FDCT) [ : , 0:m]\n",
        "Eig_F_posi = ((I - direct_sum_matrix) - FDST) [: , 1:m]\n",
        "Eig_F_negi = ((I - direct_sum_matrix) + FDST) [ : , 1:m]\n",
        "\n",
        "\n",
        "print(\"\\n\\033[94m--- Eigenvector Checks for F ---\\033[0m\")\n",
        "\n",
        "# === Check F·v = λ·v for each set ===\n",
        "if np.allclose(F @ Eig_F1, Eig_F1, atol=1e-2):\n",
        "    print(\"✅ Eig_F1 is an eigenbasis of F for λ = +1\")\n",
        "else:\n",
        "    print(\"❌ Eig_F1 is not an eigenbasis for λ = +1\")\n",
        "\n",
        "if np.allclose(F @ Eig_F_neg1, -Eig_F_neg1, atol=1e-2):\n",
        "    print(\"✅ Eig_F_neg1 is an eigenbasis of F for λ = -1\")\n",
        "else:\n",
        "    print(\"❌ Eig_F_neg1 is not an eigenbasis for λ = -1\")\n",
        "\n",
        "if np.allclose(F @ Eig_F_posi, 1j * Eig_F_posi, atol=1e-2):\n",
        "    print(\"✅ Eig_F_posi is an eigenbasis of F for λ = +i\")\n",
        "else:\n",
        "    print(\"❌ Eig_F_posi is not an eigenbasis for λ = +i\")\n",
        "\n",
        "if np.allclose(F @ Eig_F_negi, -1j * Eig_F_negi, atol=1e-2):\n",
        "    print(\"✅ Eig_F_negi is an eigenbasis of F for λ = -i\")\n",
        "else:\n",
        "    print(\"❌ Eig_F_negi is not an eigenbasis for λ = -i\")\n",
        "\n",
        "print(\"\\033[90m\" + \"-\"*45 + \"\\033[0m\")\n",
        "\n",
        "\n"
      ],
      "metadata": {
        "colab": {
          "base_uri": "https://localhost:8080/"
        },
        "id": "7hqyO9dMkcu8",
        "outputId": "c50d317f-572d-4b84-8071-cc6fa4d31a62"
      },
      "execution_count": 31,
      "outputs": [
        {
          "output_type": "stream",
          "name": "stdout",
          "text": [
            "\n",
            "\u001b[94m--- Eigenvector Checks for F ---\u001b[0m\n",
            "✅ Eig_F1 is an eigenbasis of F for λ = +1\n",
            "✅ Eig_F_neg1 is an eigenbasis of F for λ = -1\n",
            "✅ Eig_F_posi is an eigenbasis of F for λ = +i\n",
            "✅ Eig_F_negi is an eigenbasis of F for λ = -i\n",
            "\u001b[90m---------------------------------------------\u001b[0m\n"
          ]
        }
      ]
    },
    {
      "cell_type": "code",
      "source": [
        "import matplotlib.pyplot as plt\n",
        "# === Stem Plot of Eigenvectors (λ = ±1) ===\n",
        "num_vectors = Eig_F1.shape[1]\n",
        "x = np.arange(Eig_F1.shape[0])\n",
        "\n",
        "fig, axs = plt.subplots(nrows=num_vectors, ncols=2, figsize=(10, 2.5 * num_vectors), sharex=True)\n",
        "fig.suptitle(\"Stem Plots of Eigenvectors of F for λ = +1 and λ = -1\", fontsize=14)\n",
        "\n",
        "for i in range(num_vectors):\n",
        "    # λ = +1 eigenvector (blue)\n",
        "    markerline1, stemlines1, baseline1 = axs[i, 0].stem(x, np.real(Eig_F1[:, i]), linefmt='b-', markerfmt='bo', basefmt='k-')\n",
        "    markerline1.set_markersize(2)\n",
        "    axs[i, 0].set_ylabel(f\"v{i+1}\", rotation=0, labelpad=15)\n",
        "    axs[i, 0].set_xticks([])\n",
        "    axs[i, 0].set_yticks([])\n",
        "    axs[i, 0].grid(True)\n",
        "\n",
        "    # λ = -1 eigenvector (red)\n",
        "    markerline2, stemlines2, baseline2 = axs[i, 1].stem(x, np.real(Eig_F_neg1[:, i]), linefmt='r-', markerfmt='ro', basefmt='k-')\n",
        "    markerline2.set_markersize(2)\n",
        "    axs[i, 1].set_xticks([])\n",
        "    axs[i, 1].set_yticks([])\n",
        "    axs[i, 1].grid(True)\n",
        "\n",
        "# Column headers\n",
        "axs[0, 0].set_title(\"λ = +1\", fontsize=12)\n",
        "axs[0, 1].set_title(\"λ = -1\", fontsize=12)\n",
        "\n",
        "plt.tight_layout(rect=[0, 0, 1, 0.95])\n",
        "plt.show()\n"
      ],
      "metadata": {
        "colab": {
          "base_uri": "https://localhost:8080/",
          "height": 757
        },
        "id": "DkcV2isyr8-4",
        "outputId": "35579d83-7f2f-43db-e661-2e262c83c110"
      },
      "execution_count": 32,
      "outputs": [
        {
          "output_type": "display_data",
          "data": {
            "text/plain": [
              "<Figure size 1000x750 with 6 Axes>"
            ],
            "image/png": "[encoded data removed]"
          },
          "metadata": {}
        }
      ]
    },
    {
      "cell_type": "markdown",
      "source": [
        "# Block Forms of FDCT and FDST for Even-Length Signals\n",
        "# The Square of FDCT and FDST\n",
        "# Eigvals of FDCT and FDST\n"
      ],
      "metadata": {
        "id": "e698gTZpjvTe"
      }
    },
    {
      "cell_type": "code",
      "source": [
        "## ===parameter===#\n",
        "mid = N // 2\n",
        "#Construct Identity and Symmetry Matrix\n",
        "I = np.eye(2 * m )\n",
        "J = np.eye(2*m )\n",
        "J = J[:, ::-1]\n",
        "#== zeros matrix===#\n",
        "Z1 = np.zeros((1, 2 * m ))\n",
        "Z2 = np.zeros((2 * m , 1))\n",
        "# === construct C_even  ====#\n",
        "for k in range(N):\n",
        "    FDCT[k] = np.array([\n",
        "        np.cos((k * l * 2 * np.pi) / N) for l in range(N)\n",
        "    ])\n",
        "C_even =FDCT[1:2*m+1,1:2*m+1]\n",
        "# === construct C_even  ====#\n",
        "S_even = np.zeros((2*m , 2*m ))\n",
        "for k in range(1, 2*m+1):\n",
        "    for l in range(1, 2*m+1):\n",
        "        S_even[k - 1, l - 1] = (2 / np.sqrt(N)) * np.sin((2 * np.pi * k * l) / N)\n",
        "\n",
        "FDST = np.zeros((N, N))\n",
        "for k in range(1, N + 1):\n",
        "    for l in range(1, N + 1):\n",
        "        FDST[k - 1, l - 1] = (2 / np.sqrt(N)) * np.sin((2 * np.pi * (k - 1) * (l - 1)) / N)\n",
        "\n",
        "#### reconstruct FDST===#\n",
        "recon_FDST = np.block([\n",
        "    [0, Z1, 0, Z1],\n",
        "    [Z2,S_even , Z2, -S_even @ J],\n",
        "    [0, Z1, 0, Z1],\n",
        "    [Z2, -J @ S_even, Z2, J @ S_even @ J]\n",
        "])\n",
        "\n",
        "#### reconstruct FDCT===#\n",
        "recon_FDCT = np.zeros((N, N))\n",
        "recon_FDCT[0, :] = 1\n",
        "recon_FDCT[:, 0] = 1\n",
        "recon_FDCT[mid, :] = (-1) ** np.arange(N)\n",
        "recon_FDCT[:, mid] = (-1) ** np.arange(N)\n",
        "\n",
        "recon_FDCT[1:mid, 1:mid] = C_even\n",
        "recon_FDCT[1:mid, mid+1:N] = C_even @ J\n",
        "recon_FDCT[mid+1:N, 1:mid] = J @ C_even\n",
        "recon_FDCT[mid+1:N, mid+1:N] = J @ C_even @ J\n",
        "\n",
        "\n",
        "# === Validate ===\n",
        "print(\"FDCT shape:\", FDCT.shape, \"| C_even shape:\", C_even.shape)\n",
        "print(\"FDCT ≈ reconstructed FDCT?\")\n",
        "print(\"Comparison result:\", np.allclose(FDCT, recon_FDCT, atol=1e-10))\n",
        "print(\"*\" * 40)\n",
        "\n",
        "print(\"C_even =\\n\", C_even)\n",
        "\n",
        "\n",
        "print(\"FDST shape:\", FDST.shape, \"| S_even shape:\", S_even.shape)\n",
        "print(\"FDST ≈ reconstructed FDST?\")\n",
        "print(\"Comparison result:\", np.allclose(FDST, recon_FDST, atol=1e-10))\n",
        "print(\"*\" * 40)\n",
        "\n",
        "print(\"S_even =\\n\", S_even)\n"
      ],
      "metadata": {
        "id": "N8mOakkUxru2",
        "colab": {
          "base_uri": "https://localhost:8080/"
        },
        "outputId": "ee274994-880f-4df0-f77e-eeea6aa1210a"
      },
      "execution_count": 33,
      "outputs": [
        {
          "output_type": "stream",
          "name": "stdout",
          "text": [
            "FDCT shape: (14, 14) | C_even shape: (6, 6)\n",
            "FDCT ≈ reconstructed FDCT?\n",
            "Comparison result: True\n",
            "****************************************\n",
            "C_even =\n",
            " [[ 0.90096887+0.j  0.6234898 +0.j  0.22252093+0.j -0.22252093+0.j\n",
            "  -0.6234898 +0.j -0.90096887+0.j]\n",
            " [ 0.6234898 +0.j -0.22252093+0.j -0.90096887+0.j -0.90096887+0.j\n",
            "  -0.22252093+0.j  0.6234898 +0.j]\n",
            " [ 0.22252093+0.j -0.90096887+0.j -0.6234898 +0.j  0.6234898 +0.j\n",
            "   0.90096887+0.j -0.22252093+0.j]\n",
            " [-0.22252093+0.j -0.90096887+0.j  0.6234898 +0.j  0.6234898 +0.j\n",
            "  -0.90096887+0.j -0.22252093+0.j]\n",
            " [-0.6234898 +0.j -0.22252093+0.j  0.90096887+0.j -0.90096887+0.j\n",
            "   0.22252093+0.j  0.6234898 +0.j]\n",
            " [-0.90096887+0.j  0.6234898 +0.j -0.22252093+0.j -0.22252093+0.j\n",
            "   0.6234898 +0.j -0.90096887+0.j]]\n",
            "FDST shape: (14, 14) | S_even shape: (6, 6)\n",
            "FDST ≈ reconstructed FDST?\n",
            "Comparison result: True\n",
            "****************************************\n",
            "S_even =\n",
            " [[ 0.23192061  0.41790651  0.52112089  0.52112089  0.41790651  0.23192061]\n",
            " [ 0.41790651  0.52112089  0.23192061 -0.23192061 -0.52112089 -0.41790651]\n",
            " [ 0.52112089  0.23192061 -0.41790651 -0.41790651  0.23192061  0.52112089]\n",
            " [ 0.52112089 -0.23192061 -0.41790651  0.41790651  0.23192061 -0.52112089]\n",
            " [ 0.41790651 -0.52112089  0.23192061  0.23192061 -0.52112089  0.41790651]\n",
            " [ 0.23192061 -0.41790651  0.52112089 -0.52112089  0.41790651 -0.23192061]]\n"
          ]
        },
        {
          "output_type": "stream",
          "name": "stderr",
          "text": [
            "/tmp/ipython-input-33-4282462364.py:42: ComplexWarning: Casting complex values to real discards the imaginary part\n",
            "  recon_FDCT[1:mid, 1:mid] = C_even\n",
            "/tmp/ipython-input-33-4282462364.py:43: ComplexWarning: Casting complex values to real discards the imaginary part\n",
            "  recon_FDCT[1:mid, mid+1:N] = C_even @ J\n",
            "/tmp/ipython-input-33-4282462364.py:44: ComplexWarning: Casting complex values to real discards the imaginary part\n",
            "  recon_FDCT[mid+1:N, 1:mid] = J @ C_even\n",
            "/tmp/ipython-input-33-4282462364.py:45: ComplexWarning: Casting complex values to real discards the imaginary part\n",
            "  recon_FDCT[mid+1:N, mid+1:N] = J @ C_even @ J\n"
          ]
        }
      ]
    },
    {
      "cell_type": "code",
      "source": [
        "# === Extract C_even ===\n",
        "C_even =FDCT[1:2*m+1,1:2*m+1]\n",
        "# === Construct Zebra Difference Matrix ===\n",
        "zebra_diff_matrix = np.zeros((2 * m , 2 * m ))\n",
        "np.fill_diagonal(zebra_diff_matrix, m - 0.5)\n",
        "\n",
        "for i in range(2 * m ):\n",
        "    for j in range(2 * m ):\n",
        "        if i != j and abs(i - j) % 2 == 0:\n",
        "            zebra_diff_matrix[i, j] = -1\n",
        "\n",
        "print(\"Zebra Difference Matrix:\\n\", zebra_diff_matrix)\n",
        "\n",
        "# === Compute C_even squared ===\n",
        "C_even_squared = C_even @ C_even\n",
        "print(\"C_even squared:\\n\", np.round(C_even_squared, 3))\n",
        "\n",
        "# === Validate ===\n",
        "print(\"Is C_even^2 approximately equal to zebra_diff_matrix?\")\n",
        "result = np.allclose(C_even_squared, zebra_diff_matrix, atol=1e-2)\n",
        "print(result)\n",
        "\n",
        "\n",
        "# Compute squares of C_even and S_even\n",
        "S_even_squared = S_even @ S_even\n",
        "# Validate if C_even^2 approximates zebra_diff_matrix\n",
        "\n",
        "# Check if S_even @ S_even approximates identity\n",
        "print(\"Is S_even @ S_even approximately the identity matrix?\")\n",
        "print(np.allclose(S_even_squared, np.eye(2 * m ), atol=1e-2))\n",
        "print(C_even @ C_even)\n",
        "# Compute eigenvalues\n",
        "eigvals_C_even = np.unique(np.round(np.linalg.eigvals(C_even), 4))\n",
        "eigvals_S_even = np.unique(np.round(np.linalg.eigvals(S_even), 4))\n",
        "print(\"Eigenvalues of C_even (FDCT):\")\n",
        "print(eigvals_C_even)\n",
        "print(\"Eigenvalues of S_even (FDST):\")\n",
        "print(eigvals_S_even)\n",
        "print(\"*\" * 40)\n"
      ],
      "metadata": {
        "id": "RsibQCQD1EY_",
        "outputId": "7ff3afdb-a7c9-47b2-e441-37e7f8be591e",
        "colab": {
          "base_uri": "https://localhost:8080/"
        }
      },
      "execution_count": 36,
      "outputs": [
        {
          "output_type": "stream",
          "name": "stdout",
          "text": [
            "Zebra Difference Matrix:\n",
            " [[ 2.5  0.  -1.   0.  -1.   0. ]\n",
            " [ 0.   2.5  0.  -1.   0.  -1. ]\n",
            " [-1.   0.   2.5  0.  -1.   0. ]\n",
            " [ 0.  -1.   0.   2.5  0.  -1. ]\n",
            " [-1.   0.  -1.   0.   2.5  0. ]\n",
            " [ 0.  -1.   0.  -1.   0.   2.5]]\n",
            "C_even squared:\n",
            " [[ 2.5+0.j  0. +0.j -1. +0.j  0. +0.j -1. +0.j -0. +0.j]\n",
            " [ 0. +0.j  2.5+0.j  0. +0.j -1. +0.j  0. +0.j -1. +0.j]\n",
            " [-1. +0.j  0. +0.j  2.5+0.j -0. +0.j -1. +0.j  0. +0.j]\n",
            " [ 0. +0.j -1. +0.j -0. +0.j  2.5+0.j -0. +0.j -1. +0.j]\n",
            " [-1. +0.j  0. +0.j -1. +0.j -0. +0.j  2.5+0.j -0. +0.j]\n",
            " [-0. +0.j -1. +0.j  0. +0.j -1. +0.j -0. +0.j  2.5+0.j]]\n",
            "Is C_even^2 approximately equal to zebra_diff_matrix?\n",
            "True\n",
            "Is S_even @ S_even approximately the identity matrix?\n",
            "True\n",
            "[[ 2.50000000e+00+0.j  3.42370649e-16+0.j -1.00000000e+00+0.j\n",
            "   1.95854955e-16+0.j -1.00000000e+00+0.j -7.84470374e-16+0.j]\n",
            " [ 3.42370649e-16+0.j  2.50000000e+00+0.j  1.27357117e-16+0.j\n",
            "  -1.00000000e+00+0.j  5.71180537e-16+0.j -1.00000000e+00+0.j]\n",
            " [-1.00000000e+00+0.j  1.27357117e-16+0.j  2.50000000e+00+0.j\n",
            "  -2.27232003e-16+0.j -1.00000000e+00+0.j  1.50716881e-15+0.j]\n",
            " [ 1.95854955e-16+0.j -1.00000000e+00+0.j -2.27232003e-16+0.j\n",
            "   2.50000000e+00+0.j -1.78667742e-17+0.j -1.00000000e+00+0.j]\n",
            " [-1.00000000e+00+0.j  5.71180537e-16+0.j -1.00000000e+00+0.j\n",
            "  -1.78667742e-17+0.j  2.50000000e+00+0.j -1.33272375e-15+0.j]\n",
            " [-7.84470374e-16+0.j -1.00000000e+00+0.j  1.50716881e-15+0.j\n",
            "  -1.00000000e+00+0.j -1.33272375e-15+0.j  2.50000000e+00+0.j]]\n",
            "Eigenvalues of C_even (FDCT):\n",
            "[-1.8708+0.j -0.7071+0.j  0.7071+0.j  1.8708+0.j]\n",
            "Eigenvalues of S_even (FDST):\n",
            "[-1.  1.]\n",
            "****************************************\n"
          ]
        }
      ]
    }
  ]
}