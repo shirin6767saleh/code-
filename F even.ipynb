{
  "nbformat": 4,
  "nbformat_minor": 0,
  "metadata": {
    "colab": {
      "provenance": [],
      "authorship_tag": "ABX9TyOIISChQXoDKtRI5M6U4c8T",
      "include_colab_link": true
    },
    "kernelspec": {
      "name": "python3",
      "display_name": "Python 3"
    },
    "language_info": {
      "name": "python"
    }
  },
  "cells": [
    {
      "cell_type": "markdown",
      "metadata": {
        "id": "view-in-github",
        "colab_type": "text"
      },
      "source": [
        "<a href=\"https://colab.research.google.com/github/shirin6767saleh/code-/blob/Fnew/F%20even.ipynb\" target=\"_parent\"><img src=\"https://colab.research.google.com/assets/colab-badge.svg\" alt=\"Open In Colab\"/></a>"
      ]
    },
    {
      "cell_type": "markdown",
      "source": [
        "# Let $F$ denote a discrete Fourier\n",
        "\n",
        "*   List item\n",
        "*   List item\n",
        "\n",
        "Let \\( F \\) be the discrete Fourier transform (DFT) operator, which satisfies the following algebraic properties:\n",
        "\n",
        "\\begin{align*}\n",
        "F^2 &= 1\\oplus J_{n-1}, \\\\\n",
        "F^4 &= I,\n",
        "\\end{align*}\n",
        "\n",
        "where:\n",
        "\n",
        "-  $J$ is the antidiagonal matrix,\n",
        "-  $I$ is the identity matrix of appropriate dimension."
      ],
      "metadata": {
        "id": "SYCNBCXNv5Xc"
      }
    },
    {
      "cell_type": "code",
      "source": [
        "import numpy as np\n",
        "from numpy.linalg import norm\n",
        "from scipy.linalg import block_diag\n",
        "\n",
        "# === Parameters ===\n",
        "m = 100\n",
        "N = 2 * m\n",
        "pi = np.pi\n",
        "w = np.exp(-2j * pi / N)\n",
        "\n",
        "# === Construct Identity and Symmetry Matrix ===\n",
        "I = np.eye(N)\n",
        "J_N = np.fliplr(np.eye(N, dtype=int))  # Reflection operator\n",
        "J_N_1 = np.fliplr(np.eye(N - 1, dtype=int))\n",
        "direct_sum_matrix = block_diag(1, J_N_1)\n",
        "# === Construct  Matrix ّ ===\n",
        "F = np.zeros((N, N), dtype=complex)\n",
        "for k in range(N):\n",
        "    F[k] = np.sqrt(1 / N) * np.array([\n",
        "        w ** ((k ) * (l )) for l in range(N)\n",
        "    ])\n",
        "\n",
        "# === Matrix Powers ===\n",
        "F2 = np.linalg.matrix_power(F, 2)\n",
        "F4 = np.linalg.matrix_power(F, 4)\n",
        "F3 = np.linalg.matrix_power(F,3)\n",
        "F_H = np.conj(F).T\n",
        "# === Identity Verification ===\n",
        "print(\"\\n--- Algebraic Identity Checks ---\")\n",
        "\n",
        "if np.allclose(F2, direct_sum_matrix, atol=1e-10):\n",
        "    print(\"✅ F² = direct_sum_matrix\")\n",
        "else:\n",
        "    print(\"❌ F² ≠ direct_sum_matrix\")\n",
        "\n",
        "if np.allclose(F3, F_H, atol=1e-10):\n",
        "    print(\"✅ F³ = F_H confirmed\")\n",
        "else:\n",
        "    print(\"❌ F³ ≠ F_H\")\n",
        "\n",
        "if np.allclose(F4, I, atol=1e-10):\n",
        "    print(\"✅ F⁴ = I confirmed\")\n",
        "else:\n",
        "    print(\"❌ F⁴ ≠ I\")\n",
        "\n",
        "print(\"----------------------------------\\n\")\n",
        "\n"
      ],
      "metadata": {
        "colab": {
          "base_uri": "https://localhost:8080/"
        },
        "id": "NBLF6lddv8Ym",
        "outputId": "798404dc-930d-468a-9984-d5595972965b"
      },
      "execution_count": 9,
      "outputs": [
        {
          "output_type": "stream",
          "name": "stdout",
          "text": [
            "\n",
            "--- Algebraic Identity Checks ---\n",
            "✅ F² = direct_sum_matrix\n",
            "✅ F³ = F_H confirmed\n",
            "✅ F⁴ = I confirmed\n",
            "----------------------------------\n",
            "\n"
          ]
        }
      ]
    },
    {
      "cell_type": "code",
      "source": [
        "FDCT = np.zeros_like(F)\n",
        "FDST = np.zeros_like(F)\n",
        "\n",
        "# === Construct FDCT and FDST ===\n",
        "for k in range(N):\n",
        "    FDCT[k] = (2 / np.sqrt(N)) * np.array([\n",
        "        np.cos((k * l * 2 * np.pi) / N) for l in range(N)\n",
        "    ])\n",
        "    FDST[k] = (2 / np.sqrt(N)) * np.array([\n",
        "        np.sin((k * l * 2 * np.pi) / N) for l in range(N)\n",
        "    ])\n",
        "# === Check the connection between FDCT and F ===\n",
        "\n",
        "print(\"\\n--- FDCT Connection Analysis ---\")\n",
        "if np.allclose(FDCT, F3 + F, atol=1e-10):\n",
        "    print(\"✅ FDCT = F3 + F confirmed\")\n",
        "else:\n",
        "    print(\"❌ FDCT ≠ F3 + F\")\n",
        "\n",
        "# === Part 1: FDCT Squared Identity ===\n",
        "Square_FDCT = FDCT @ FDCT\n",
        "\n",
        "print(\"\\n--- FDCT Analysis ---\")\n",
        "if np.allclose(Square_FDCT, 2 * (I + F2), atol=1e-10):\n",
        "    print(\"✅ FDCT² = 2·(I + F2) confirmed\")\n",
        "else:\n",
        "    print(\"❌ FDCT² ≠ 2·(I + F2)\")\n",
        "\n",
        "# Eigenvalue spectrum of FDCT\n",
        "eigvals_FDCT = np.unique(np.round(np.linalg.eigvals(FDCT), decimals=5))\n",
        "print(f\"Eigenvalues of FDCT: {eigvals_FDCT}\")\n",
        "print(\"*\" * 40)\n",
        "\n",
        "\n",
        "# === Check the connection between FDST and F ===\n",
        "\n",
        "print(\"\\n--- FDST Connection Analysis ---\")\n",
        "if np.allclose(FDST, 1j * (F - F3), atol=1e-10):\n",
        "    print(\"✅ FDST = 1j * (F - F3) confirmed\")\n",
        "else:\n",
        "    print(\"❌ FDST ≠ 1j * (F - F3)\")\n",
        "\n",
        "\n",
        "# === Part 2: FDST Squared Identity ===\n",
        "Square_FDST = FDST @ FDST\n",
        "\n",
        "print(\"\\n--- FDST Analysis ---\")\n",
        "if np.allclose(Square_FDST, 2 * (I - F2), atol=1e-10):\n",
        "    print(\"✅ FDST² = 2·(I - F2) confirmed\")\n",
        "else:\n",
        "    print(\"❌ FDST² ≠ 2·(I + F2)\")\n",
        "\n",
        "# Eigenvalue spectrum of FDST\n",
        "eigvals_FDST = np.unique(np.round(np.linalg.eigvals(FDST), decimals=5))\n",
        "print(f\"Eigenvalues of FDST: {eigvals_FDST}\")\n",
        "print(\"*\" * 40)\n",
        "\n",
        "\n"
      ],
      "metadata": {
        "colab": {
          "base_uri": "https://localhost:8080/"
        },
        "id": "Mv_HFVxF3X7c",
        "outputId": "cd5de3f7-4fbc-4ee4-f161-2c72f7fa6d3a"
      },
      "execution_count": 10,
      "outputs": [
        {
          "output_type": "stream",
          "name": "stdout",
          "text": [
            "\n",
            "--- FDCT Connection Analysis ---\n",
            "✅ FDCT = F3 + F confirmed\n",
            "\n",
            "--- FDCT Analysis ---\n",
            "✅ FDCT² = 2·(I + F2) confirmed\n",
            "Eigenvalues of FDCT: [-2.+0.j -0.-0.j  2.-0.j]\n",
            "****************************************\n",
            "\n",
            "--- FDST Connection Analysis ---\n",
            "✅ FDST = 1j * (F - F3) confirmed\n",
            "\n",
            "--- FDST Analysis ---\n",
            "✅ FDST² = 2·(I - F2) confirmed\n",
            "Eigenvalues of FDST: [-2.-0.j -0.+0.j  2.+0.j]\n",
            "****************************************\n"
          ]
        }
      ]
    },
    {
      "cell_type": "code",
      "source": [
        "# === Verify algebraic decomposition of F ===\n",
        "check1 = np.round(F3 + F - FDCT, 2)\n",
        "check2 = np.round((1j * (F - F3)) - FDST, 2)\n",
        "\n",
        "zero_matrix = np.zeros_like(F)\n",
        "print(\"\\n--- Decomposition Verification ---\")\n",
        "if np.allclose(check1, zero_matrix) and np.allclose(check2, zero_matrix):\n",
        "    print(\"✅ F3 + F = FDCT and 1j * (F - F3) = FDST confirmed\")\n",
        "else:\n",
        "    print(\"❌ Decomposition mismatch detected\")\n",
        "print(\"----------------------------------\")\n",
        "\n",
        "# === Construct eigenspace components ===\n",
        "Eig_pos1 = (I + direct_sum_matrix) + FDCT       # eigval +1\n",
        "Eig_neg1 = (I + direct_sum_matrix) - FDCT       # eigval -1\n",
        "Eig_posi = (I - direct_sum_matrix) - FDST       # eigval +i\n",
        "Eig_negi = (I - direct_sum_matrix) + FDST       # eigval -i\n",
        "\n",
        "# === Verify eigenvalue equations Fv = λv ===\n",
        "print(\"\\n--- Eigenvalue Verification ---\")\n",
        "def check_eigvec(eig_matrix, expected, label):\n",
        "    if np.allclose(F @ eig_matrix, expected * eig_matrix, atol=1e-2):\n",
        "        print(f\"✅ EigVecs confirmed for eigenvalue {label}\")\n",
        "    else:\n",
        "        print(f\"❌ EigVecs failed for eigenvalue {label}\")\n",
        "\n",
        "check_eigvec(Eig_pos1,  1,   \"+1\")\n",
        "check_eigvec(Eig_neg1, -1,   \"-1\")\n",
        "check_eigvec(Eig_posi,  1j,  \"+i\")\n",
        "check_eigvec(Eig_negi, -1j,  \"-i\")\n",
        "print(\"----------------------------------\")\n",
        "\n",
        "# === Construct normalized projection matrices ===\n",
        "Proj_pos1 = (1/4) * Eig_pos1\n",
        "Proj_neg1 = (1/4) * Eig_neg1\n",
        "Proj_posi = (1/4) * Eig_posi\n",
        "Proj_negi = (1/4) * Eig_negi\n",
        "\n",
        "# === Check idempotence: P^2 = P ===\n",
        "print(\"\\n--- Idempotence Checks for Projectors ---\")\n",
        "def check_idempotent(P, label):\n",
        "    if np.allclose(P @ P, P, atol=1e-2):\n",
        "        print(f\"✅ Proj_{{{label}}} is idempotent\")\n",
        "    else:\n",
        "        print(f\"❌ Proj_{{{label}}} is not idempotent\")\n",
        "\n",
        "check_idempotent(Proj_pos1, \"+1\")\n",
        "check_idempotent(Proj_neg1, \"-1\")\n",
        "check_idempotent(Proj_posi, \"+i\")\n",
        "check_idempotent(Proj_negi, \"-i\")\n",
        "print(\"------------------------------------------\\n\")\n",
        "\n",
        "# === Final identity decomposition check ===\n",
        "identity_operator = Proj_pos1 + Proj_neg1 + Proj_posi + Proj_negi\n",
        "\n",
        "print(\"\\n--- Identity Decomposition Check ---\")\n",
        "if np.allclose(np.eye(N), identity_operator, atol=1e-2):\n",
        "    print(\"✅ I = Proj_{+1} + Proj_{-1} + Proj_{+i} + Proj_{-i} confirmed\")\n",
        "else:\n",
        "    print(\"❌ Identity cannot be decomposed into spectral projections\")\n",
        "print(\"------------------------------------------\")\n"
      ],
      "metadata": {
        "colab": {
          "base_uri": "https://localhost:8080/"
        },
        "id": "9iPI2wKW37dt",
        "outputId": "785b53ee-e18e-4603-a471-47a7d6d9445b"
      },
      "execution_count": 11,
      "outputs": [
        {
          "output_type": "stream",
          "name": "stdout",
          "text": [
            "\n",
            "--- Decomposition Verification ---\n",
            "✅ F3 + F = FDCT and 1j * (F - F3) = FDST confirmed\n",
            "----------------------------------\n",
            "\n",
            "--- Eigenvalue Verification ---\n",
            "✅ EigVecs confirmed for eigenvalue +1\n",
            "✅ EigVecs confirmed for eigenvalue -1\n",
            "✅ EigVecs confirmed for eigenvalue +i\n",
            "✅ EigVecs confirmed for eigenvalue -i\n",
            "----------------------------------\n",
            "\n",
            "--- Idempotence Checks for Projectors ---\n",
            "✅ Proj_{+1} is idempotent\n",
            "✅ Proj_{-1} is idempotent\n",
            "✅ Proj_{+i} is idempotent\n",
            "✅ Proj_{-i} is idempotent\n",
            "------------------------------------------\n",
            "\n",
            "\n",
            "--- Identity Decomposition Check ---\n",
            "✅ I = Proj_{+1} + Proj_{-1} + Proj_{+i} + Proj_{-i} confirmed\n",
            "------------------------------------------\n"
          ]
        }
      ]
    },
    {
      "cell_type": "markdown",
      "source": [
        "# Block Forms of FDCT and FDST for Even-Length Signals\n",
        "# The Square of FDCT and FDST\n",
        "# Eigvals of FDCT and FDST\n",
        "# Even Case"
      ],
      "metadata": {
        "id": "EL-HxmiS4pHJ"
      }
    },
    {
      "cell_type": "code",
      "source": [
        "# === FDCT generation ===\n",
        "FDCT = np.zeros((N, N), dtype=complex)\n",
        "for k in range(N):\n",
        "    FDCT[k] = np.array([\n",
        "        np.cos((k * l * 2 * pi) / N) for l in range(N)\n",
        "    ])\n",
        "\n",
        "# === Define reflection matrix J_m ===\n",
        "J_m_1 = np.fliplr(np.eye(m - 1))\n",
        "# === Define Zeros (zero matrix) ===\n",
        "Z_N = np.zeros(N)\n",
        "Z_row = np.zeros((1, m - 1))\n",
        "Z_col = np.zeros((m - 1, 1))\n",
        "# === Extract the components for even case ===\n",
        "C_even = FDCT[1:m, 1:m]\n",
        "S_even = FDST[1:m, 1:m]\n",
        "# === Reconstruct FDCT ===\n",
        "recon_FDCT = np.zeros((N, N), dtype=complex)\n",
        "recon_FDCT[0, :] = 1\n",
        "recon_FDCT[:, 0] = 1\n",
        "recon_FDCT[m, :] = (-1) ** np.arange(N)\n",
        "recon_FDCT[:, m] = (-1) ** np.arange(N)\n",
        "recon_FDCT[1:m, 1:m] = C_even\n",
        "recon_FDCT[1:m, m+1:] = C_even @ J_m_1\n",
        "recon_FDCT[m+1:, 1:m] = J_m_1 @ C_even\n",
        "recon_FDCT[m+1:, m+1:] = J_m_1 @ C_even @ J_m_1\n",
        "\n",
        "# === Reconstruct FDST ===\n",
        "recon_FDST = np.block([\n",
        "    [         0, Z_row,           0,            Z_row],\n",
        "    [Z_col,   S_even,         Z_col,     -S_even @ J_m_1],\n",
        "    [0,       Z_row,             0,            Z_row],\n",
        "    [Z_col, -J_m_1 @ S_even, Z_col,  J_m_1 @ S_even @ J_m_1]\n",
        "]).astype(complex)\n",
        "\n",
        "# === Validate ===\n",
        "print(\"FDCT shape:\", FDCT.shape, \"| C_even shape:\", C_even.shape)\n",
        "print(\"FDCT ≈ reconstructed FDCT?\")\n",
        "print(\"Comparison result:\", np.allclose(FDCT, recon_FDCT, atol=1e-10))\n",
        "print(\"*\" * 40)\n",
        "\n",
        "print(\"C_even =\\n\", C_even)\n",
        "print(S_even)\n",
        "print(\"FDST shape:\", FDST.shape, \"| S_even shape:\", S_even.shape)\n",
        "print(\"FDST ≈ reconstructed FDST?\")\n",
        "print(\"Comparison result:\", np.allclose(FDST, recon_FDST, atol=1e-2))\n",
        "print(\"*\" * 40)"
      ],
      "metadata": {
        "colab": {
          "base_uri": "https://localhost:8080/"
        },
        "id": "MPgWmgET4q0W",
        "outputId": "473212cf-ec84-4d2d-934b-e5225029f405"
      },
      "execution_count": 12,
      "outputs": [
        {
          "output_type": "stream",
          "name": "stdout",
          "text": [
            "FDCT shape: (200, 200) | C_even shape: (99, 99)\n",
            "FDCT ≈ reconstructed FDCT?\n",
            "Comparison result: True\n",
            "****************************************\n",
            "C_even =\n",
            " [[ 0.99950656+0.j  0.99802673+0.j  0.99556196+0.j ... -0.99556196+0.j\n",
            "  -0.99802673+0.j -0.99950656+0.j]\n",
            " [ 0.99802673+0.j  0.9921147 +0.j  0.98228725+0.j ...  0.98228725+0.j\n",
            "   0.9921147 +0.j  0.99802673+0.j]\n",
            " [ 0.99556196+0.j  0.98228725+0.j  0.96029369+0.j ... -0.96029369+0.j\n",
            "  -0.98228725+0.j -0.99556196+0.j]\n",
            " ...\n",
            " [-0.99556196+0.j  0.98228725+0.j -0.96029369+0.j ...  0.96029369+0.j\n",
            "  -0.98228725+0.j  0.99556196+0.j]\n",
            " [-0.99802673+0.j  0.9921147 +0.j -0.98228725+0.j ... -0.98228725+0.j\n",
            "   0.9921147 +0.j -0.99802673+0.j]\n",
            " [-0.99950656+0.j  0.99802673+0.j -0.99556196+0.j ...  0.99556196+0.j\n",
            "  -0.99802673+0.j  0.99950656+0.j]]\n",
            "[[ 0.00444215+0.j  0.00887992+0.j  0.01330893+0.j ...  0.01330893+0.j\n",
            "   0.00887992+0.j  0.00444215+0.j]\n",
            " [ 0.00887992+0.j  0.0177248 +0.j  0.02649972+0.j ... -0.02649972+0.j\n",
            "  -0.0177248 +0.j -0.00887992+0.j]\n",
            " [ 0.01330893+0.j  0.02649972+0.j  0.0394553 +0.j ...  0.0394553 +0.j\n",
            "   0.02649972+0.j  0.01330893+0.j]\n",
            " ...\n",
            " [ 0.01330893+0.j -0.02649972+0.j  0.0394553 +0.j ...  0.0394553 +0.j\n",
            "  -0.02649972+0.j  0.01330893+0.j]\n",
            " [ 0.00887992+0.j -0.0177248 +0.j  0.02649972+0.j ... -0.02649972+0.j\n",
            "   0.0177248 +0.j -0.00887992+0.j]\n",
            " [ 0.00444215+0.j -0.00887992+0.j  0.01330893+0.j ...  0.01330893+0.j\n",
            "  -0.00887992+0.j  0.00444215+0.j]]\n",
            "FDST shape: (200, 200) | S_even shape: (99, 99)\n",
            "FDST ≈ reconstructed FDST?\n",
            "Comparison result: True\n",
            "****************************************\n"
          ]
        }
      ]
    },
    {
      "cell_type": "code",
      "source": [
        "# === construct zebra_diff_matrix === #\n",
        "zebra_diff_matrix = np.zeros((m-1, m-1))\n",
        "np.fill_diagonal(zebra_diff_matrix, (m - 2) / 2)\n",
        "\n",
        "for i in range(m-1):\n",
        "    for j in range(m-1):\n",
        "        if i != j and abs(i - j) % 2 == 0:\n",
        "            zebra_diff_matrix[i, j] = -1\n",
        "# === Extract the components for even case ===\n",
        "C_even = FDCT[1:m, 1:m]\n",
        "S_even = FDST[1:m, 1:m]\n",
        "# === Compute squares of C_even and S_even ===\n",
        "C_even_squared = C_even @ C_even\n",
        "S_even_squared = S_even @ S_even\n",
        "\n",
        "print(\"Is C_even^2 ≈ zebra_diff_matrix?\")\n",
        "print(np.allclose(C_even_squared, zebra_diff_matrix, atol=1e-2))\n",
        "\n",
        "print(\"Is S_even @ S_even ≈ I_m?\")\n",
        "print(np.allclose(S_even_squared, np.eye(m - 1), atol=1e-2))\n",
        "# === Compute eigenvalues ===\n",
        "eigvals_C_even = np.unique(np.round(np.linalg.eigvals(C_even), 4))\n",
        "eigvals_S_even = np.unique(np.round(np.linalg.eigvals(S_even), 4))\n",
        "\n",
        "print(\"Eigenvalues of C_even (FDCT):\")\n",
        "print(eigvals_C_even)\n",
        "print(\"Eigenvalues of S_even (FDST):\")\n",
        "print(eigvals_S_even)\n",
        "print(\"*\" * 40)"
      ],
      "metadata": {
        "colab": {
          "base_uri": "https://localhost:8080/"
        },
        "id": "2VU0P2-g5PuA",
        "outputId": "cbaacab2-205f-487e-a064-5e1c267bb1bd"
      },
      "execution_count": 13,
      "outputs": [
        {
          "output_type": "stream",
          "name": "stdout",
          "text": [
            "Is C_even^2 ≈ zebra_diff_matrix?\n",
            "True\n",
            "Is S_even @ S_even ≈ I_m?\n",
            "True\n",
            "Eigenvalues of C_even (FDCT):\n",
            "[-7.0711+0.j -1.    +0.j  0.    +0.j  7.0711+0.j]\n",
            "Eigenvalues of S_even (FDST):\n",
            "[-1.+0.j  1.+0.j]\n",
            "****************************************\n"
          ]
        }
      ]
    }
  ]
}